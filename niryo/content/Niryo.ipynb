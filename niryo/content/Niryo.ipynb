{
 "cells": [
  {
   "cell_type": "code",
   "execution_count": 1,
   "id": "46cb33ab-0818-4baf-9610-c3ab41438668",
   "metadata": {},
   "outputs": [],
   "source": [
    "from niryo_one_python_api.niryo_one_api import *\n",
    "import rospy\n",
    "import time\n",
    "import math\n",
    "\n",
    "rospy.init_node('niryo_one_example_python_api')"
   ]
  },
  {
   "cell_type": "code",
   "execution_count": 2,
   "id": "14c67f87-7efa-4d6f-a873-975430db8fac",
   "metadata": {},
   "outputs": [],
   "source": [
    "n = NiryoOne()"
   ]
  },
  {
   "cell_type": "code",
   "execution_count": 3,
   "id": "08045dca-bc32-4b41-9c9f-ef7b2f8e6f96",
   "metadata": {},
   "outputs": [],
   "source": [
    "n.activate_learning_mode(True)"
   ]
  },
  {
   "cell_type": "code",
   "execution_count": 4,
   "id": "95669ec2-c477-4108-9206-68c1196da8f4",
   "metadata": {},
   "outputs": [],
   "source": [
    "# n.calibrate_auto()\n",
    "n.calibrate_manual()"
   ]
  },
  {
   "cell_type": "code",
   "execution_count": 5,
   "id": "c5103a33-bb53-4a5f-b2f3-f8f0bae59fe6",
   "metadata": {},
   "outputs": [],
   "source": [
    "n.activate_learning_mode(False)"
   ]
  },
  {
   "cell_type": "code",
   "execution_count": 13,
   "id": "0fc44c86-5427-48c7-bac3-eacb156ac828",
   "metadata": {},
   "outputs": [
    {
     "data": {
      "text/plain": [
       "'Command has been successfully processed'"
      ]
     },
     "execution_count": 13,
     "metadata": {},
     "output_type": "execute_result"
    }
   ],
   "source": [
    "joint_target = [math.radians(45), -math.pi/4.0, math.pi/4.0, 1.57/2, 0.0, 0.0]\n",
    "n.move_joints(joint_target)"
   ]
  },
  {
   "cell_type": "code",
   "execution_count": 7,
   "id": "8a7fb514-a256-483a-9c8d-d1b32c7cf497",
   "metadata": {},
   "outputs": [
    {
     "data": {
      "text/plain": [
       "'Command has been successfully processed'"
      ]
     },
     "execution_count": 7,
     "metadata": {},
     "output_type": "execute_result"
    }
   ],
   "source": [
    "n.move_pose(0.2, 0, 0.2, 0, math.radians(90), 0)\n",
    "next_pose = [0.25, 0.1, 0.2, 0.0, math.radians(90), 0.0]\n",
    "n.move_pose(*next_pose)"
   ]
  },
  {
   "cell_type": "code",
   "execution_count": 8,
   "id": "9c60d07c-1cc7-4df3-80d1-3a5c59eb478f",
   "metadata": {},
   "outputs": [
    {
     "data": {
      "text/plain": [
       "'Command has been successfully processed'"
      ]
     },
     "execution_count": 8,
     "metadata": {},
     "output_type": "execute_result"
    }
   ],
   "source": [
    "n.shift_pose(AXIS_Y, 0.1)\n",
    "n.shift_pose(ROT_YAW, math.radians(-45))"
   ]
  },
  {
   "cell_type": "code",
   "execution_count": 9,
   "id": "51a4c820-5f29-4daa-ac12-f4bded3613ac",
   "metadata": {},
   "outputs": [
    {
     "name": "stdout",
     "output_type": "stream",
     "text": [
      "\n",
      "Current joints: \n",
      "[0.6768998604126462, -0.7062678221228181, 0.003989324004558467, 0.0307177948351002, -0.8462752477070106, 1.3311626204960751]\n"
     ]
    }
   ],
   "source": [
    "# saved_positions = n.get_saved_position_list()\n",
    "# print \"\\nSaved positions: \"\n",
    "# print saved_positions\n",
    "\n",
    "current_joints_array = n.get_joints()\n",
    "print \"\\nCurrent joints: \"\n",
    "print current_joints_array\n",
    "# current_position = n.get_arm_pose()\n",
    "# print \"\\nCurrent pose: \"\n",
    "# print current_position"
   ]
  },
  {
   "cell_type": "code",
   "execution_count": 10,
   "id": "71b97dc4-bd2c-4467-aa8d-965d7113d285",
   "metadata": {},
   "outputs": [
    {
     "name": "stdout",
     "output_type": "stream",
     "text": [
      "\n",
      "Current tool id:\n",
      "11\n"
     ]
    },
    {
     "data": {
      "text/plain": [
       "'Tool command has been successfully processed'"
      ]
     },
     "execution_count": 10,
     "metadata": {},
     "output_type": "execute_result"
    }
   ],
   "source": [
    "n.change_tool(TOOL_GRIPPER_1_ID)\n",
    "print \"\\nCurrent tool id:\"\n",
    "print n.get_current_tool_id()\n",
    "n.close_gripper(TOOL_GRIPPER_1_ID,500)\n",
    "n.wait(0.2)\n",
    "n.open_gripper(TOOL_GRIPPER_1_ID,500)"
   ]
  },
  {
   "cell_type": "code",
   "execution_count": 12,
   "id": "fc1feddf-ed10-44aa-a326-a4efba5660ac",
   "metadata": {},
   "outputs": [
    {
     "data": {
      "text/plain": [
       "'Tool command has been successfully processed'"
      ]
     },
     "execution_count": 12,
     "metadata": {},
     "output_type": "execute_result"
    }
   ],
   "source": [
    "n.close_gripper(TOOL_GRIPPER_1_ID,500)"
   ]
  },
  {
   "cell_type": "code",
   "execution_count": null,
   "id": "700a0590-a81b-4a1b-95d5-84c6277066cc",
   "metadata": {},
   "outputs": [],
   "source": []
  }
 ],
 "metadata": {
  "kernelspec": {
   "display_name": "ROS Python 2",
   "language": "python",
   "name": "ros_python"
  },
  "language_info": {
   "codemirror_mode": {
    "name": "ipython",
    "version": 2
   },
   "file_extension": ".py",
   "mimetype": "text/x-python",
   "name": "python",
   "nbconvert_exporter": "python",
   "pygments_lexer": "ipython2",
   "version": "2.7.17"
  }
 },
 "nbformat": 4,
 "nbformat_minor": 5
}
